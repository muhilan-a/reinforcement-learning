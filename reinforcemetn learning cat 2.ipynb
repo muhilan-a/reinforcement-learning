{
 "cells": [
  {
   "cell_type": "code",
   "execution_count": 6,
   "metadata": {},
   "outputs": [],
   "source": [
    "import numpy as np\n",
    "import random\n",
    "import time\n",
    "import matplotlib.pyplot as plt\n",
    "\n",
    "\n",
    "GRID_SIZE = 100\n",
    "OBSTACLE_DENSITY = 0.2  # 20% of the grid cells are obstacles\n",
    "\n",
    "\n",
    "REWARD_GOAL = 100\n",
    "REWARD_OBSTACLE = -100\n",
    "REWARD_STEP = -1\n",
    "\n",
    "\n",
    "ACTIONS = ['up', 'down', 'left', 'right']\n",
    "ACTION_TO_DELTA = {\n",
    "    'up': (-1, 0),\n",
    "    'down': (1, 0),\n",
    "    'left': (0, -1),\n",
    "    'right': (0, 1),\n",
    "}\n",
    " "
   ]
  },
  {
   "cell_type": "code",
   "execution_count": 7,
   "metadata": {},
   "outputs": [],
   "source": [
    "   \n",
    "\n",
    "def create_grid(grid_size, obstacle_density):\n",
    "    grid = np.zeros((grid_size, grid_size))\n",
    "    num_obstacles = int(grid_size * grid_size * obstacle_density)\n",
    "    obstacles = random.sample(range(grid_size * grid_size), num_obstacles)\n",
    "    for obs in obstacles:\n",
    "        row, col = divmod(obs, grid_size)\n",
    "        grid[row, col] = REWARD_OBSTACLE\n",
    "    return grid\n"
   ]
  },
  {
   "cell_type": "code",
   "execution_count": 8,
   "metadata": {},
   "outputs": [],
   "source": [
    "\n",
    "def generate_start_goal(grid):\n",
    "    while True:\n",
    "        start = (random.randint(0, GRID_SIZE-1), random.randint(0, GRID_SIZE-1))\n",
    "        goal = (random.randint(0, GRID_SIZE-1), random.randint(0, GRID_SIZE-1))\n",
    "        if start != goal and grid[start] != REWARD_OBSTACLE and grid[goal] != REWARD_OBSTACLE:\n",
    "            grid[goal] = REWARD_GOAL\n",
    "            return start, goal\n"
   ]
  },
  {
   "cell_type": "code",
   "execution_count": 9,
   "metadata": {},
   "outputs": [],
   "source": [
    "\n",
    "\n",
    "class MDPEnvironment:\n",
    "    def __init__(self, grid, goal):\n",
    "        self.grid = grid\n",
    "        self.goal = goal\n",
    "\n",
    "    def get_next_state(self, state, action):\n",
    "        if state == self.goal:\n",
    "            return state, REWARD_GOAL\n",
    "\n",
    "        row, col = state\n",
    "        d_row, d_col = ACTION_TO_DELTA[action]\n",
    "        next_state = (row + d_row, col + d_col)\n",
    "\n",
    "        if 0 <= next_state[0] < GRID_SIZE and 0 <= next_state[1] < GRID_SIZE:\n",
    "            if self.grid[next_state] != REWARD_OBSTACLE:\n",
    "                return next_state, REWARD_STEP\n",
    "        return state, REWARD_OBSTACLE\n",
    "\n",
    "    def is_terminal(self, state):\n",
    "        return state == self.goal\n"
   ]
  },
  {
   "cell_type": "code",
   "execution_count": 10,
   "metadata": {},
   "outputs": [],
   "source": [
    "\n",
    "\n",
    "def value_iteration(env, gamma=0.9, theta=1e-4):\n",
    "    V = np.zeros((GRID_SIZE, GRID_SIZE))\n",
    "    policy = np.full((GRID_SIZE, GRID_SIZE), None)\n",
    "    iterations = 0\n",
    "\n",
    "    while True:\n",
    "        delta = 0\n",
    "        for row in range(GRID_SIZE):\n",
    "            for col in range(GRID_SIZE):\n",
    "                state = (row, col)\n",
    "                if env.is_terminal(state) or env.grid[state] == REWARD_OBSTACLE:\n",
    "                    continue\n",
    "                v = V[state]\n",
    "                max_value = float('-inf')\n",
    "                best_action = None\n",
    "                for action in ACTIONS:\n",
    "                    next_state, reward = env.get_next_state(state, action)\n",
    "                    value = reward + gamma * V[next_state]\n",
    "                    if value > max_value:\n",
    "                        max_value = value\n",
    "                        best_action = action\n",
    "                V[state] = max_value\n",
    "                policy[state] = best_action\n",
    "                delta = max(delta, abs(v - V[state]))\n",
    "        iterations += 1\n",
    "        if delta < theta:\n",
    "            break\n",
    "    return V, policy, iterations\n"
   ]
  },
  {
   "cell_type": "code",
   "execution_count": 11,
   "metadata": {},
   "outputs": [],
   "source": [
    "\n",
    "\n",
    "def plot_grid_with_path(grid, start, goal, policy):\n",
    "    path = []\n",
    "    state = start\n",
    "    while state != goal:\n",
    "        path.append(state)\n",
    "        action = policy[state]\n",
    "        if action is None:\n",
    "            break\n",
    "        d_row, d_col = ACTION_TO_DELTA[action]\n",
    "        state = (state[0] + d_row, state[1] + d_col)\n",
    "    \n",
    "    for row, col in path:\n",
    "        grid[row, col] = 50 \n",
    "\n",
    "    grid[goal] = REWARD_GOAL\n",
    "    plt.imshow(grid, cmap='hot', interpolation='nearest')\n",
    "    plt.title(\"Grid with Optimal Path\")\n",
    "    plt.show()\n"
   ]
  },
  {
   "cell_type": "code",
   "execution_count": 12,
   "metadata": {},
   "outputs": [
    {
     "name": "stdout",
     "output_type": "stream",
     "text": [
      "Start: (51, 19), Goal: (84, 46)\n",
      "Iterations: 133\n",
      "Time taken: 8.6242 seconds\n",
      "Optimal Path:\n"
     ]
    },
    {
     "data": {
      "image/png": "[encoded data removed]",
      "text/plain": [
       "<Figure size 640x480 with 1 Axes>"
      ]
     },
     "metadata": {},
     "output_type": "display_data"
    }
   ],
   "source": [
    "\n",
    "\n",
    "def main():\n",
    "    grid = create_grid(GRID_SIZE, OBSTACLE_DENSITY)\n",
    "    start, goal = generate_start_goal(grid)\n",
    "    env = MDPEnvironment(grid, goal)\n",
    "\n",
    "    # Start timing\n",
    "    start_time = time.time()\n",
    "\n",
    "    # Run Value Iteration\n",
    "    V, policy, iterations = value_iteration(env)\n",
    "\n",
    "    # End timing\n",
    "    end_time = time.time()\n",
    "    time_taken = end_time - start_time\n",
    "\n",
    "    # Print results\n",
    "    print(f\"Start: {start}, Goal: {goal}\")\n",
    "    print(f\"Iterations: {iterations}\")\n",
    "    print(f\"Time taken: {time_taken:.4f} seconds\")\n",
    "    print(\"Optimal Path:\")\n",
    "\n",
    "    # Plot the grid with the path\n",
    "    plot_grid_with_path(grid, start, goal, policy)\n",
    "\n",
    "\n",
    "if __name__ == \"__main__\":\n",
    "    main()\n"
   ]
  },
  {
   "cell_type": "code",
   "execution_count": null,
   "metadata": {},
   "outputs": [],
   "source": []
  }
 ],
 "metadata": {
  "kernelspec": {
   "display_name": "Python 3",
   "language": "python",
   "name": "python3"
  },
  "language_info": {
   "codemirror_mode": {
    "name": "ipython",
    "version": 3
   },
   "file_extension": ".py",
   "mimetype": "text/x-python",
   "name": "python",
   "nbconvert_exporter": "python",
   "pygments_lexer": "ipython3",
   "version": "3.10.8"
  }
 },
 "nbformat": 4,
 "nbformat_minor": 2
}
